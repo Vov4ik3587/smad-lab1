{
 "cells": [
  {
   "cell_type": "markdown",
   "metadata": {},
   "source": [
    "# Лабораторная работа №1-2 по СМАД\n",
    "\n",
    "## Тема: генерация экспериментальных данных по схеме имитационного моделирования на ЭВМ\n",
    "\n",
    "---\n",
    "\n",
    "## Вариант 2\n",
    "\n",
    "Информация о моделируемом объекте:\n",
    "\n",
    "-   число факторов - 2\n",
    "-   По первому фактору зависимость близка к линейной (возрастающей)\n",
    "-   По второму фактору зависимость близка к параболической\n",
    "-   Максимальное значение отклика приходится на граничные точки точки области действия факторов\n",
    "\n",
    "## Задание:\n",
    "\n",
    "### Часть 1:\n",
    "\n",
    "1. Определить модель, область действия факторов, план эксперимента\n",
    "2. Написать программу по генерации экспериментальных данных\n",
    "3. Построить графики зависимости незашумленного отклика от входных факторов\n",
    "\n",
    "### Часть 2:\n",
    "\n",
    "1. Сформировать программные модули по вычислению МНК-оценок параметров для заданной параметрической модели\n",
    "2. Оценить параметры модели объекта\n",
    "3. Проверить адекватность полученной модели.\n"
   ]
  },
  {
   "cell_type": "markdown",
   "metadata": {},
   "source": [
    "Импортируем нужные библиотеки\n"
   ]
  },
  {
   "cell_type": "code",
   "execution_count": 198,
   "metadata": {},
   "outputs": [],
   "source": [
    "import numpy as np\n",
    "from prettytable import PrettyTable\n",
    "import matplotlib.pyplot as plt\n",
    "import scipy.stats as scp\n"
   ]
  },
  {
   "cell_type": "markdown",
   "metadata": {},
   "source": [
    "Задаем класс Модель\n",
    "\n",
    "Параметры модели $\\theta$ = [1, 4, 0.001, 4]\n"
   ]
  },
  {
   "cell_type": "code",
   "execution_count": 199,
   "metadata": {},
   "outputs": [],
   "source": [
    "class Model:\n",
    "\n",
    "    def __init__(self):\n",
    "        self.amount_tests = 12\n",
    "        self.x_max = 1\n",
    "        self.x_min = -1\n",
    "        self.x1 = []\n",
    "        self.x2 = []\n",
    "        self.signal = []\n",
    "        self.response = []\n",
    "        self.response_hat = []\n",
    "        self.power = 0\n",
    "        self.variance = 0\n",
    "        self.theta = [1, 4, 0.001, 4]\n",
    "        self.func = lambda x1, x2: 1 + 4*x1 + 0.001 * x1 + 4 * x2 ** 2\n"
   ]
  },
  {
   "cell_type": "markdown",
   "metadata": {},
   "source": []
  },
  {
   "cell_type": "code",
   "execution_count": 200,
   "metadata": {},
   "outputs": [],
   "source": [
    "class Calculator:\n",
    "\n",
    "    @staticmethod\n",
    "    def compute_signal(model: Model):\n",
    "        signal = [model.func(model.x1[i], model.x2[i])\n",
    "                  for i in range(model.amount_tests)]\n",
    "        return np.array(signal)\n",
    "\n",
    "    @staticmethod\n",
    "    def compute_variance(model) -> float:\n",
    "        return model.power * 0.1\n",
    "\n",
    "    @staticmethod\n",
    "    def compute_power(model):\n",
    "        avg_signal = [\n",
    "            np.sum(model.signal) / len(model.signal)\n",
    "            for i in range(len(model.signal))\n",
    "        ]\n",
    "        vec_avg_signal = np.array(avg_signal)\n",
    "        power = np.vdot(model.signal - vec_avg_signal,\n",
    "                        model.signal - vec_avg_signal) / len(model.signal)\n",
    "        return power\n",
    "\n",
    "    @staticmethod\n",
    "    def compute_response(model, error):\n",
    "        return model.signal + error\n"
   ]
  },
  {
   "cell_type": "markdown",
   "metadata": {},
   "source": [
    "Создаем модуль генерации случайных значений\n",
    "\n",
    "Первая функция генерирует пару независимых переменных.\n",
    "Вторая функция генерирует величину ошибки с нормальным распределением и нулевым мат. ожиданием\n"
   ]
  },
  {
   "cell_type": "code",
   "execution_count": 201,
   "metadata": {},
   "outputs": [],
   "source": [
    "class DataGenerator:\n",
    "\n",
    "    @staticmethod\n",
    "    def generate_couple(x_min, x_max, amount_tests):\n",
    "        x1 = np.random.uniform(x_min, x_max, amount_tests)\n",
    "        x2 = np.random.uniform(x_min, x_max, amount_tests)\n",
    "        return x1, x2\n",
    "\n",
    "    @staticmethod\n",
    "    def generate_error(standard_deviation, number_tests) -> float:\n",
    "        error = np.random.normal(0, standard_deviation, number_tests)\n",
    "        return error\n"
   ]
  },
  {
   "cell_type": "markdown",
   "metadata": {},
   "source": [
    "Заполняем модель данными\n"
   ]
  },
  {
   "cell_type": "code",
   "execution_count": 202,
   "metadata": {},
   "outputs": [],
   "source": [
    "model = Model()\n",
    "\n",
    "model.x1, model.x2 = DataGenerator.generate_couple(\n",
    "    model.x_min, model.x_max, model.amount_tests)\n",
    "\n",
    "model.signal = Calculator.compute_signal(model)\n",
    "model.power = Calculator.compute_power(model)\n",
    "model.variance = Calculator.compute_variance(model)\n",
    "\n",
    "error = DataGenerator.generate_error(\n",
    "    model.variance, model.amount_tests)\n",
    "\n",
    "model.response = Calculator.compute_response(model, error)\n"
   ]
  },
  {
   "cell_type": "markdown",
   "metadata": {},
   "source": [
    "Отрисовываем таблицу выборки и параметры модели\n"
   ]
  },
  {
   "cell_type": "code",
   "execution_count": 203,
   "metadata": {},
   "outputs": [
    {
     "name": "stdout",
     "output_type": "stream",
     "text": [
      "+----------+------------+------------+------------+------------+------------+\n",
      "| Num Test |     x1     |     x2     |   signal   |   error    |  response  |\n",
      "+----------+------------+------------+------------+------------+------------+\n",
      "|    1     | 0.5908521  | 0.9489465  | 6.9659967  | -1.6006956 | 5.3653011  |\n",
      "|    2     | 0.3583919  | -0.9711414 | 6.2063887  | 1.6340669  | 7.8404556  |\n",
      "|    3     | -0.5312151 | -0.264355  | -0.8458575 | 0.3831514  | -0.4627061 |\n",
      "|    4     |  0.718285  | 0.7007101  | 5.8378369  | -0.3351505 | 5.5026864  |\n",
      "|    5     | -0.926398  | -0.5436056 | -1.5244901 | -0.6331229 | -2.157613  |\n",
      "|    6     | 0.7868006  | 0.9367941  | 7.6583219  | 0.0392091  |  7.697531  |\n",
      "|    7     | 0.0213266  | 0.5301049  | 2.2093726  | -0.9619734 | 1.2473992  |\n",
      "|    8     | 0.8634174  | 0.1548396  | 4.5504342  | -1.0850968 | 3.4653374  |\n",
      "|    9     | 0.9956805  | -0.472502  | 5.8767504  |  1.694787  | 7.5715374  |\n",
      "|    10    | -0.9878924 | 0.6435993  | -1.2956774 | 2.4450676  | 1.1493902  |\n",
      "|    11    | -0.1570633 | -0.6296624 | 1.9574886  | -0.8293949 | 1.1280937  |\n",
      "|    12    | -0.8109463 | 0.2725621  | -1.9474355 | 0.1607043  | -1.7867312 |\n",
      "+----------+------------+------------+------------+------------+------------+\n",
      "\n",
      "\n",
      "Параметры модели Θ: [1, 4, 0.001, 4]\n",
      "Мощность сигнала: 12.194677857060483\n",
      "Дисперсия σ: 1.2194677857060485\n"
     ]
    }
   ],
   "source": [
    "table = PrettyTable()\n",
    "table.field_names = [\"Num Test\", \"x1\", \"x2\", \"signal\", \"error\", \"response\"]\n",
    "for i in range(model.amount_tests):\n",
    "    table.add_row([i+1, np.around(model.x1[i], 7),\n",
    "                   np.around(model.x2[i], 7),\n",
    "                   np.around(model.signal[i], 7),\n",
    "                   np.around(error[i], 7),\n",
    "                   np.around(model.response[i], 7)])\n",
    "print(table)\n",
    "print(\"\\n\")\n",
    "print(f\"Параметры модели Θ: {model.theta}\")\n",
    "print(f\"Мощность сигнала: {model.power}\")\n",
    "print(f\"Дисперсия σ: {model.variance}\")\n"
   ]
  },
  {
   "cell_type": "markdown",
   "metadata": {},
   "source": [
    "Построение графиков зависимости незашумленного отклика от входных параметров\n"
   ]
  },
  {
   "cell_type": "code",
   "execution_count": 204,
   "metadata": {},
   "outputs": [
    {
     "data": {
      "text/plain": "<Figure size 1200x600 with 2 Axes>",
      "image/png": "[encoded data removed]"
     },
     "metadata": {},
     "output_type": "display_data"
    }
   ],
   "source": [
    "fig, axes = plt.subplots(nrows=1, ncols=2)\n",
    "fig.set_figheight(6)\n",
    "fig.set_figwidth(12)\n",
    "ax_x1 = np.linspace(-1, 1, 1000)\n",
    "ax_x2 = ax_x1\n",
    "axes[0].set(title=\"η(x1, 0)\")\n",
    "axes[1].set(title=\"η(x2, 0)\")\n",
    "axes[0].plot(ax_x1, model.func(ax_x1, 0))\n",
    "axes[1].plot(ax_x2, model.func(0, ax_x2))\n",
    "axes[0].grid()\n",
    "axes[1].grid()\n",
    "plt.show()\n"
   ]
  },
  {
   "cell_type": "markdown",
   "metadata": {},
   "source": [
    "### Часть 2. Определение адекватности модели\n",
    "***\n",
    "Сначала определим матрицу наблюдений, где\n",
    "$$ f(x) = (1, x_1, x_1, x_2^2) $$"
   ]
  },
  {
   "cell_type": "code",
   "execution_count": 205,
   "metadata": {},
   "outputs": [
    {
     "name": "stdout",
     "output_type": "stream",
     "text": [
      "Матрица наблюдений Х:\n",
      "+----+-----+------------+------------+-----------+\n",
      "| 1  | 1.0 | 0.5908521  | 0.5908521  | 0.9004994 |\n",
      "| 2  | 1.0 | 0.3583919  | 0.3583919  | 0.9431157 |\n",
      "| 3  | 1.0 | -0.5312151 | -0.5312151 | 0.0698836 |\n",
      "| 4  | 1.0 |  0.718285  |  0.718285  | 0.4909946 |\n",
      "| 5  | 1.0 | -0.926398  | -0.926398  | 0.2955071 |\n",
      "| 6  | 1.0 | 0.7868006  | 0.7868006  | 0.8775832 |\n",
      "| 7  | 1.0 | 0.0213266  | 0.0213266  | 0.2810113 |\n",
      "| 8  | 1.0 | 0.8634174  | 0.8634174  | 0.0239753 |\n",
      "| 9  | 1.0 | 0.9956805  | 0.9956805  | 0.2232581 |\n",
      "| 10 | 1.0 | -0.9878924 | -0.9878924 |  0.41422  |\n",
      "| 11 | 1.0 | -0.1570633 | -0.1570633 | 0.3964748 |\n",
      "| 12 | 1.0 | -0.8109463 | -0.8109463 | 0.0742901 |\n",
      "+----+-----+------------+------------+-----------+\n"
     ]
    }
   ],
   "source": [
    "experiment_matrix = np.array([\n",
    "    np.array([1 for _ in range(model.amount_tests)]),\n",
    "    model.x1,\n",
    "    model.x1,\n",
    "    np.array([x2 ** 2 for x2 in model.x2])\n",
    "], dtype=object)\n",
    "experiment_matrix = np.array([list(i) for i in zip(*experiment_matrix)])\n",
    "experiment_matrix = np.float64(experiment_matrix)\n",
    "print_experiment_matrix = PrettyTable()\n",
    "for i in range(model.amount_tests):\n",
    "    print_experiment_matrix.add_row([\n",
    "    i+1, \n",
    "    np.around(experiment_matrix[i][0], 7),\n",
    "    np.around(experiment_matrix[i][1], 7),\n",
    "    np.around(experiment_matrix[i][2], 7),\n",
    "    np.around(experiment_matrix[i][3], 7)\n",
    "    ])\n",
    "print_experiment_matrix.header=False\n",
    "print(\"Матрица наблюдений Х:\")\n",
    "print(print_experiment_matrix)"
   ]
  },
  {
   "cell_type": "markdown",
   "metadata": {},
   "source": [
    "Далее вычислим МНК-оценки $\\hat{\\theta} = (X^T X)^{-1}X^Ty$"
   ]
  },
  {
   "cell_type": "code",
   "execution_count": 206,
   "metadata": {},
   "outputs": [
    {
     "name": "stdout",
     "output_type": "stream",
     "text": [
      "МНК-оценка Тета:\n",
      "[1.05748362 1.22341932 0.52215838 4.48433312]\n"
     ]
    }
   ],
   "source": [
    "trans_experiment_matrix = experiment_matrix.T\n",
    "mnk_eval = np.matmul(np.linalg.inv(np.matmul(trans_experiment_matrix, experiment_matrix)), trans_experiment_matrix)\n",
    "mnk_eval = np.matmul(mnk_eval, model.response)\n",
    "print(\"МНК-оценка Тета:\")\n",
    "print(mnk_eval)"
   ]
  },
  {
   "cell_type": "markdown",
   "source": [
    "Найдем вектор остатков $\\hat{e} = y - \\hat{y} = y - X\\hat{\\theta}$"
   ],
   "metadata": {
    "collapsed": false
   }
  },
  {
   "cell_type": "code",
   "execution_count": 207,
   "outputs": [
    {
     "name": "stdout",
     "output_type": "stream",
     "text": [
      "[-0.7616999   1.92812611 -0.90629362  0.98959702 -2.92314908  1.33125056\n",
      " -1.10745967  0.79317838  3.77485216 -0.04115101 -1.43314857 -1.76178674]\n"
     ]
    }
   ],
   "source": [
    "model.response_hat = np.dot(experiment_matrix, mnk_eval)\n",
    "residual_vector = model.response - model.response_hat\n",
    "print(residual_vector)"
   ],
   "metadata": {
    "collapsed": false
   }
  },
  {
   "cell_type": "markdown",
   "source": [
    "Найдем несмещенную оценку $\\hat{\\sigma}^2$ неизвестной дисперсии наблюдения\n",
    "$$ \\hat{\\sigma}^2 = \\hat{e}^T\\hat{e} / (n-m)$$"
   ],
   "metadata": {
    "collapsed": false
   }
  },
  {
   "cell_type": "code",
   "execution_count": 208,
   "outputs": [
    {
     "name": "stdout",
     "output_type": "stream",
     "text": [
      "Несмещенная оценка неизвестной дисперсии равна: 4.710020557302574\n"
     ]
    }
   ],
   "source": [
    "disp: float = np.dot(residual_vector.T, residual_vector) / (model.amount_tests - len(mnk_eval))\n",
    "print(f\"Несмещенная оценка неизвестной дисперсии равна: {disp}\")"
   ],
   "metadata": {
    "collapsed": false
   }
  },
  {
   "cell_type": "markdown",
   "source": [
    "Итоговая таблица с данными модели:"
   ],
   "metadata": {
    "collapsed": false
   }
  },
  {
   "cell_type": "code",
   "execution_count": 209,
   "outputs": [
    {
     "name": "stdout",
     "output_type": "stream",
     "text": [
      "+----+------------+------------+------------+------------+------------+------------+\n",
      "| №  |     x1     |     x2     |     u      |     y      |     Ŷ      |   y - Ŷ    |\n",
      "+----+------------+------------+------------+------------+------------+------------+\n",
      "| 1  | 0.5908521  | 0.9489465  | 6.9659967  | 5.3653011  |  6.127001  | -0.7616999 |\n",
      "| 2  | 0.3583919  | -0.9711414 | 6.2063887  | 7.8404556  | 5.9123295  | 1.9281261  |\n",
      "| 3  | -0.5312151 | -0.264355  | -0.8458575 | -0.4627061 | 0.4435875  | -0.9062936 |\n",
      "| 4  |  0.718285  | 0.7007101  | 5.8378369  | 5.5026864  | 4.5130894  |  0.989597  |\n",
      "| 5  | -0.926398  | -0.5436056 | -1.5244901 | -2.157613  | 0.7655361  | -2.9231491 |\n",
      "| 6  | 0.7868006  | 0.9367941  | 7.6583219  |  7.697531  | 6.3662805  | 1.3312506  |\n",
      "| 7  | 0.0213266  | 0.5301049  | 2.2093726  | 1.2473992  | 2.3548589  | -1.1074597 |\n",
      "| 8  | 0.8634174  | 0.1548396  | 4.5504342  | 3.4653374  |  2.672159  | 0.7931784  |\n",
      "| 9  | 0.9956805  | -0.472502  | 5.8767504  | 7.5715374  | 3.7966853  | 3.7748522  |\n",
      "| 10 | -0.9878924 | 0.6435993  | -1.2956774 | 1.1493902  | 1.1905412  | -0.041151  |\n",
      "| 11 | -0.1570633 | -0.6296624 | 1.9574886  | 1.1280937  | 2.5612423  | -1.4331486 |\n",
      "| 12 | -0.8109463 | 0.2725621  | -1.9474355 | -1.7867312 | -0.0249445 | -1.7617867 |\n",
      "+----+------------+------------+------------+------------+------------+------------+\n"
     ]
    }
   ],
   "source": [
    "final_table = PrettyTable()\n",
    "final_table.field_names = [\"№\", \"x1\", \"x2\", \"u\", \"y\", \"Ŷ\", \"y - Ŷ\"]\n",
    "for i in range(model.amount_tests):\n",
    "    final_table.add_row([\n",
    "        i+1,\n",
    "        np.around(model.x1[i],7),\n",
    "        np.around(model.x2[i],7),\n",
    "        np.around(model.signal[i],7),\n",
    "        np.around(model.response[i],7),\n",
    "        np.around(model.response_hat[i],7),\n",
    "        np.around(residual_vector[i], 7)\n",
    "    ])\n",
    "print(final_table)"
   ],
   "metadata": {
    "collapsed": false
   }
  },
  {
   "cell_type": "markdown",
   "source": [
    "Теперь проверим гипотезу об адекватности модели:\n",
    "Гипотеза не отвергается, если отношение оценок дисперсий на основе МНК к полученной без использования модели меньше либо равно табличному значению квантили F-распределения."
   ],
   "metadata": {
    "collapsed": false
   }
  },
  {
   "cell_type": "code",
   "execution_count": 210,
   "outputs": [
    {
     "name": "stdout",
     "output_type": "stream",
     "text": [
      "Значение квантили распределения равно 1.938414154420451\n",
      "Гипотеза отвергается. Модель неадекватна.\n"
     ]
    }
   ],
   "source": [
    "quantile: float = scp.f.ppf(0.95, model.amount_tests - len(mnk_eval), 1e+10)\n",
    "print(f\"Значение квантили распределения равно {quantile}\")\n",
    "if disp / model.variance <= quantile:\n",
    "    print(\"Гипотеза не отвергается\")\n",
    "else:\n",
    "    print(\"Гипотеза отвергается. Модель неадекватна.\")"
   ],
   "metadata": {
    "collapsed": false
   }
  },
  {
   "cell_type": "code",
   "execution_count": 210,
   "outputs": [],
   "source": [],
   "metadata": {
    "collapsed": false
   }
  }
 ],
 "metadata": {
  "kernelspec": {
   "display_name": "Python 3.10.6 ('env': venv)",
   "language": "python",
   "name": "python3"
  },
  "language_info": {
   "codemirror_mode": {
    "name": "ipython",
    "version": 3
   },
   "file_extension": ".py",
   "mimetype": "text/x-python",
   "name": "python",
   "nbconvert_exporter": "python",
   "pygments_lexer": "ipython3",
   "version": "3.10.6"
  },
  "orig_nbformat": 4,
  "vscode": {
   "interpreter": {
    "hash": "8a262d24c1fee1d89d5b4d6551b679089d1f111ec8a5842633e0413383dc65e3"
   }
  }
 },
 "nbformat": 4,
 "nbformat_minor": 2
}

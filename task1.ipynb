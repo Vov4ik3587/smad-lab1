{
 "cells": [
  {
   "cell_type": "markdown",
   "metadata": {},
   "source": [
    "# Лабораторная работа №1-2 по СМАД\n",
    "\n",
    "## Тема: генерация экспериментальных данных по схеме имитационного моделирования на ЭВМ\n",
    "\n",
    "---\n",
    "\n",
    "## Вариант 2\n",
    "\n",
    "Информация о моделируемом объекте:\n",
    "\n",
    "-   число факторов - 2\n",
    "-   По первому фактору зависимость близка к линейной (возрастающей)\n",
    "-   По второму фактору зависимость близка к параболической\n",
    "-   Максимальное значение отклика приходится на граничные точки точки области действия факторов\n",
    "\n",
    "## Задание:\n",
    "\n",
    "### Часть 1:\n",
    "\n",
    "1. Определить модель, область действия факторов, план эксперимента\n",
    "2. Написать программу по генерации экспериментальных данных\n",
    "3. Построить графики зависимости незашумленного отклика от входных факторов\n",
    "\n",
    "### Часть 2:\n",
    "\n",
    "1. Сформировать программные модули по вычислению МНК-оценок параметров для заданной параметрической модели\n",
    "2. Оценить параметры модели объекта\n",
    "3. Проверить адекватность полученной модели.\n"
   ]
  },
  {
   "cell_type": "markdown",
   "metadata": {},
   "source": [
    "Импортируем нужные библиотеки\n"
   ]
  },
  {
   "cell_type": "code",
   "execution_count": 297,
   "metadata": {},
   "outputs": [],
   "source": [
    "import numpy as np\n",
    "from prettytable import PrettyTable\n",
    "import matplotlib.pyplot as plt\n",
    "import scipy.stats as scp\n"
   ]
  },
  {
   "cell_type": "markdown",
   "metadata": {},
   "source": [
    "Задаем класс Модель\n",
    "\n",
    "Параметры модели $\\theta$ = [1, 4, 0.001, 4]\n"
   ]
  },
  {
   "cell_type": "code",
   "execution_count": 298,
   "metadata": {},
   "outputs": [],
   "source": [
    "class Model:\n",
    "\n",
    "    def __init__(self):\n",
    "        self.amount_tests = 12\n",
    "        self.x_max = 1\n",
    "        self.x_min = -1\n",
    "        self.x1 = []\n",
    "        self.x2 = []\n",
    "        self.signal = []\n",
    "        self.response = []\n",
    "        self.response_hat = []\n",
    "        self.power = 0\n",
    "        self.variance = 0\n",
    "        self.theta = [1, 4, 0.001, 4]\n",
    "        self.func = lambda x1, x2: 1 + 4*x1 + 0.001 * x1 ** 2 + 4 * x2 ** 2\n"
   ]
  },
  {
   "cell_type": "markdown",
   "metadata": {},
   "source": []
  },
  {
   "cell_type": "code",
   "execution_count": 299,
   "metadata": {},
   "outputs": [],
   "source": [
    "class Calculator:\n",
    "\n",
    "    @staticmethod\n",
    "    def compute_signal(model: Model):\n",
    "        signal = [model.func(model.x1[i], model.x2[i])\n",
    "                  for i in range(model.amount_tests)]\n",
    "        return np.array(signal)\n",
    "\n",
    "    @staticmethod\n",
    "    def compute_variance(model) -> float:\n",
    "        return model.power * 0.1\n",
    "\n",
    "    @staticmethod\n",
    "    def compute_power(model):\n",
    "        avg_signal = [\n",
    "            np.sum(model.signal) / len(model.signal)\n",
    "            for i in range(len(model.signal))\n",
    "        ]\n",
    "        vec_avg_signal = np.array(avg_signal)\n",
    "        power = np.vdot(model.signal - vec_avg_signal,\n",
    "                        model.signal - vec_avg_signal) / len(model.signal)\n",
    "        return power\n",
    "\n",
    "    @staticmethod\n",
    "    def compute_response(model, error):\n",
    "        return model.signal + error\n"
   ]
  },
  {
   "cell_type": "markdown",
   "metadata": {},
   "source": [
    "Создаем модуль генерации случайных значений\n",
    "\n",
    "Первая функция генерирует пару независимых переменных.\n",
    "Вторая функция генерирует величину ошибки с нормальным распределением и нулевым мат. ожиданием\n"
   ]
  },
  {
   "cell_type": "code",
   "execution_count": 300,
   "metadata": {},
   "outputs": [],
   "source": [
    "class DataGenerator:\n",
    "\n",
    "    @staticmethod\n",
    "    def generate_couple(x_min, x_max, amount_tests):\n",
    "        x1 = np.random.uniform(x_min, x_max, amount_tests)\n",
    "        x2 = np.random.uniform(x_min, x_max, amount_tests)\n",
    "        return x1, x2\n",
    "\n",
    "    @staticmethod\n",
    "    def generate_error(standard_deviation, number_tests) -> float:\n",
    "        error = np.random.normal(0, standard_deviation, number_tests)\n",
    "        return error\n"
   ]
  },
  {
   "cell_type": "markdown",
   "metadata": {},
   "source": [
    "Заполняем модель данными\n"
   ]
  },
  {
   "cell_type": "code",
   "execution_count": 301,
   "metadata": {},
   "outputs": [],
   "source": [
    "model = Model()\n",
    "\n",
    "model.x1, model.x2 = DataGenerator.generate_couple(\n",
    "    model.x_min, model.x_max, model.amount_tests)\n",
    "\n",
    "model.signal = Calculator.compute_signal(model)\n",
    "model.power = Calculator.compute_power(model)\n",
    "model.variance = Calculator.compute_variance(model)\n",
    "\n",
    "error = DataGenerator.generate_error(\n",
    "    model.variance, model.amount_tests)\n",
    "\n",
    "model.response = Calculator.compute_response(model, error)\n"
   ]
  },
  {
   "cell_type": "markdown",
   "metadata": {},
   "source": [
    "Отрисовываем таблицу выборки и параметры модели\n"
   ]
  },
  {
   "cell_type": "code",
   "execution_count": 302,
   "metadata": {},
   "outputs": [
    {
     "name": "stdout",
     "output_type": "stream",
     "text": [
      "+----------+------------+------------+------------+------------+------------+\n",
      "| Num Test |     x1     |     x2     |   signal   |   error    |  response  |\n",
      "+----------+------------+------------+------------+------------+------------+\n",
      "|    1     | -0.5814149 |  0.792225  | 1.1851602  | -0.4282271 | 0.7569331  |\n",
      "|    2     | 0.2774681  | -0.9410328 | 5.6521207  | -0.3372869 | 5.3148338  |\n",
      "|    3     | 0.1943347  | -0.8498085 | 4.6660747  | -0.5221735 | 4.1439012  |\n",
      "|    4     | -0.5593579 | 0.4228051  | -0.5220622 | 0.2334007  | -0.2886615 |\n",
      "|    5     |  0.879693  | -0.3572456 | 5.0300436  | 0.0029663  | 5.0330099  |\n",
      "|    6     | 0.1944646  | 0.2873681  |  2.108218  | 0.0881823  | 2.1964003  |\n",
      "|    7     | -0.606953  | 0.6219839  | 0.1200123  | 0.0926679  | 0.2126802  |\n",
      "|    8     | -0.3334559 | 0.6204239  | 1.2059907  | -0.1697341 | 1.0362566  |\n",
      "|    9     | -0.6286078 | 0.7717417  | 0.8683048  | -0.1055081 | 0.7627967  |\n",
      "|    10    | 0.0018329  | 0.1335601  | 1.0786848  | 0.2718292  | 1.3505141  |\n",
      "|    11    | 0.1639372  | 0.4390774  | 2.4269316  | 0.0213188  | 2.4482504  |\n",
      "|    12    | 0.3760244  | -0.0623965 | 2.5198123  | 0.5280254  | 3.0478378  |\n",
      "+----------+------------+------------+------------+------------+------------+\n",
      "\n",
      "\n",
      "Параметры модели Θ: [1, 4, 0.001, 4]\n",
      "Мощность сигнала: 3.579532360314445\n",
      "Дисперсия σ: 0.3579532360314445\n"
     ]
    }
   ],
   "source": [
    "table = PrettyTable()\n",
    "table.field_names = [\"Num Test\", \"x1\", \"x2\", \"signal\", \"error\", \"response\"]\n",
    "for i in range(model.amount_tests):\n",
    "    table.add_row([i+1, np.around(model.x1[i], 7),\n",
    "                   np.around(model.x2[i], 7),\n",
    "                   np.around(model.signal[i], 7),\n",
    "                   np.around(error[i], 7),\n",
    "                   np.around(model.response[i], 7)])\n",
    "print(table)\n",
    "print(\"\\n\")\n",
    "print(f\"Параметры модели Θ: {model.theta}\")\n",
    "print(f\"Мощность сигнала: {model.power}\")\n",
    "print(f\"Дисперсия σ: {model.variance}\")\n"
   ]
  },
  {
   "cell_type": "markdown",
   "metadata": {},
   "source": [
    "Построение графиков зависимости незашумленного отклика от входных параметров\n"
   ]
  },
  {
   "cell_type": "code",
   "execution_count": 303,
   "metadata": {},
   "outputs": [
    {
     "data": {
      "text/plain": "<Figure size 1200x600 with 2 Axes>",
      "image/png": "[encoded data removed]"
     },
     "metadata": {},
     "output_type": "display_data"
    }
   ],
   "source": [
    "fig, axes = plt.subplots(nrows=1, ncols=2)\n",
    "fig.set_figheight(6)\n",
    "fig.set_figwidth(12)\n",
    "ax_x1 = np.linspace(-1, 1, 1000)\n",
    "ax_x2 = ax_x1\n",
    "axes[0].set(title=\"η(x1, 0)\")\n",
    "axes[1].set(title=\"η(x2, 0)\")\n",
    "axes[0].plot(ax_x1, model.func(ax_x1, 0))\n",
    "axes[1].plot(ax_x2, model.func(0, ax_x2))\n",
    "axes[0].grid()\n",
    "axes[1].grid()\n",
    "plt.show()\n"
   ]
  },
  {
   "cell_type": "markdown",
   "metadata": {},
   "source": [
    "### Часть 2. Определение адекватности модели\n",
    "***\n",
    "Сначала определим матрицу наблюдений, где\n",
    "$$ f(x) = (1, x_1, x_1^2, x_2^2) $$"
   ]
  },
  {
   "cell_type": "code",
   "execution_count": 304,
   "metadata": {},
   "outputs": [
    {
     "name": "stdout",
     "output_type": "stream",
     "text": [
      "Матрица наблюдений Х:\n",
      "+----+-----+------------+-----------+-----------+\n",
      "| 1  | 1.0 | -0.5814149 | 0.3380433 | 0.6276204 |\n",
      "| 2  | 1.0 | 0.2774681  | 0.0769885 | 0.8855428 |\n",
      "| 3  | 1.0 | 0.1943347  |  0.037766 | 0.7221745 |\n",
      "| 4  | 1.0 | -0.5593579 | 0.3128813 | 0.1787641 |\n",
      "| 5  | 1.0 |  0.879693  | 0.7738598 | 0.1276244 |\n",
      "| 6  | 1.0 | 0.1944646  | 0.0378165 | 0.0825804 |\n",
      "| 7  | 1.0 | -0.606953  |  0.368392 |  0.386864 |\n",
      "| 8  | 1.0 | -0.3334559 | 0.1111928 | 0.3849258 |\n",
      "| 9  | 1.0 | -0.6286078 | 0.3951478 | 0.5955852 |\n",
      "| 10 | 1.0 | 0.0018329  |  3.4e-06  | 0.0178383 |\n",
      "| 11 | 1.0 | 0.1639372  | 0.0268754 | 0.1927889 |\n",
      "| 12 | 1.0 | 0.3760244  | 0.1413944 | 0.0038933 |\n",
      "+----+-----+------------+-----------+-----------+\n"
     ]
    }
   ],
   "source": [
    "experiment_matrix = np.array([\n",
    "    np.array([1 for _ in range(model.amount_tests)]),\n",
    "    model.x1,\n",
    "    np.array([x1 ** 2 for x1 in model.x1]),\n",
    "    np.array([x2 ** 2 for x2 in model.x2])\n",
    "], dtype=object)\n",
    "experiment_matrix = np.array([list(i) for i in zip(*experiment_matrix)])\n",
    "print_experiment_matrix = PrettyTable()\n",
    "for i in range(model.amount_tests):\n",
    "    print_experiment_matrix.add_row([\n",
    "    i+1, \n",
    "    np.around(experiment_matrix[i][0], 7),\n",
    "    np.around(experiment_matrix[i][1], 7),\n",
    "    np.around(experiment_matrix[i][2], 7),\n",
    "    np.around(experiment_matrix[i][3], 7)\n",
    "    ])\n",
    "print_experiment_matrix.header=False\n",
    "print(\"Матрица наблюдений Х:\")\n",
    "print(print_experiment_matrix)"
   ]
  },
  {
   "cell_type": "markdown",
   "metadata": {},
   "source": [
    "Далее вычислим МНК-оценки $\\hat{\\theta} = (X^T X)^{-1}X^Ty$"
   ]
  },
  {
   "cell_type": "code",
   "execution_count": 305,
   "metadata": {},
   "outputs": [
    {
     "name": "stdout",
     "output_type": "stream",
     "text": [
      "МНК-оценка Тета:\n",
      "[ 1.29884542  3.91950691 -0.02417574  3.07403788]\n"
     ]
    }
   ],
   "source": [
    "trans_experiment_matrix = experiment_matrix.T\n",
    "mnk_eval = np.matmul(np.linalg.inv(np.matmul(trans_experiment_matrix, experiment_matrix)), trans_experiment_matrix)\n",
    "mnk_eval = np.matmul(mnk_eval, model.response)\n",
    "print(\"МНК-оценка Тета:\")\n",
    "print(mnk_eval)"
   ]
  },
  {
   "cell_type": "markdown",
   "source": [
    "Найдем вектор остатков $\\hat{e} = y - \\hat{y} = y - X\\hat{\\theta}$"
   ],
   "metadata": {
    "collapsed": false
   }
  },
  {
   "cell_type": "code",
   "execution_count": 306,
   "outputs": [
    {
     "name": "stdout",
     "output_type": "stream",
     "text": [
      "[-0.1842092   0.20811925 -0.13571923  0.06293665 -0.08741207 -0.11759164\n",
      "  0.1124629  -0.13619437  0.1064854  -0.01035096 -0.08513892  0.26661218]\n"
     ]
    }
   ],
   "source": [
    "model.response_hat = np.dot(experiment_matrix, mnk_eval)\n",
    "residual_vector = model.response - model.response_hat\n",
    "print(residual_vector)"
   ],
   "metadata": {
    "collapsed": false
   }
  },
  {
   "cell_type": "markdown",
   "source": [
    "Найдем несмещенную оценку $\\hat{\\sigma}^2$ неизвестной дисперсии наблюдения\n",
    "$$ \\hat{\\sigma}^2 = \\hat{e}^T\\hat{e} / (n-m)$$"
   ],
   "metadata": {
    "collapsed": false
   }
  },
  {
   "cell_type": "code",
   "execution_count": 307,
   "outputs": [
    {
     "name": "stdout",
     "output_type": "stream",
     "text": [
      "Несмещенная оценка неизвестной дисперсии равна: 0.03025872816035219\n"
     ]
    }
   ],
   "source": [
    "disp: float = np.vdot(residual_vector.T, residual_vector) / (model.amount_tests - len(mnk_eval))\n",
    "print(f\"Несмещенная оценка неизвестной дисперсии равна: {disp}\")"
   ],
   "metadata": {
    "collapsed": false
   }
  },
  {
   "cell_type": "markdown",
   "source": [
    "Итоговая таблица с данными модели:"
   ],
   "metadata": {
    "collapsed": false
   }
  },
  {
   "cell_type": "code",
   "execution_count": 308,
   "outputs": [
    {
     "name": "stdout",
     "output_type": "stream",
     "text": [
      "+----+------------+------------+------------+------------+------------+------------+\n",
      "| №  |     x1     |     x2     |     u      |     y      |     Ŷ      |   y - Ŷ    |\n",
      "+----+------------+------------+------------+------------+------------+------------+\n",
      "| 1  | -0.5814149 |  0.792225  | 1.1851602  | 0.7569331  | 0.9411423  | -0.1842092 |\n",
      "| 2  | 0.2774681  | -0.9410328 | 5.6521207  | 5.3148338  | 5.1067145  | 0.2081193  |\n",
      "| 3  | 0.1943347  | -0.8498085 | 4.6660747  | 4.1439012  | 4.2796204  | -0.1357192 |\n",
      "| 4  | -0.5593579 | 0.4228051  | -0.5220622 | -0.2886615 | -0.3515981 | 0.0629366  |\n",
      "| 5  |  0.879693  | -0.3572456 | 5.0300436  | 5.0330099  | 5.1204219  | -0.0874121 |\n",
      "| 6  | 0.1944646  | 0.2873681  |  2.108218  | 2.1964003  | 2.3139919  | -0.1175916 |\n",
      "| 7  | -0.606953  | 0.6219839  | 0.1200123  | 0.2126802  | 0.1002173  | 0.1124629  |\n",
      "| 8  | -0.3334559 | 0.6204239  | 1.2059907  | 1.0362566  |  1.172451  | -0.1361944 |\n",
      "| 9  | -0.6286078 | 0.7717417  | 0.8683048  | 0.7627967  | 0.6563113  | 0.1064854  |\n",
      "| 10 | 0.0018329  | 0.1335601  | 1.0786848  | 1.3505141  |  1.360865  | -0.010351  |\n",
      "| 11 | 0.1639372  | 0.4390774  | 2.4269316  | 2.4482504  | 2.5333893  | -0.0851389 |\n",
      "| 12 | 0.3760244  | -0.0623965 | 2.5198123  | 3.0478378  | 2.7812256  | 0.2666122  |\n",
      "+----+------------+------------+------------+------------+------------+------------+\n"
     ]
    }
   ],
   "source": [
    "final_table = PrettyTable()\n",
    "final_table.field_names = [\"№\", \"x1\", \"x2\", \"u\", \"y\", \"Ŷ\", \"y - Ŷ\"]\n",
    "for i in range(model.amount_tests):\n",
    "    final_table.add_row([\n",
    "        i+1,\n",
    "        np.around(model.x1[i],7),\n",
    "        np.around(model.x2[i],7),\n",
    "        np.around(model.signal[i],7),\n",
    "        np.around(model.response[i],7),\n",
    "        np.around(model.response_hat[i],7),\n",
    "        np.around(residual_vector[i], 7)\n",
    "    ])\n",
    "print(final_table)"
   ],
   "metadata": {
    "collapsed": false
   }
  },
  {
   "cell_type": "markdown",
   "source": [
    "Теперь проверим гипотезу об адекватности модели:\n",
    "Гипотеза не отвергается, если отношение оценок дисперсий на основе МНК к полученной без использования модели меньше либо равно табличному значению квантили F-распределения."
   ],
   "metadata": {
    "collapsed": false
   }
  },
  {
   "cell_type": "code",
   "execution_count": 309,
   "outputs": [
    {
     "name": "stdout",
     "output_type": "stream",
     "text": [
      "Значение квантили распределения равно 1.938414154420451\n",
      "Гипотеза не отвергается\n"
     ]
    }
   ],
   "source": [
    "quantile: float = scp.f.ppf(0.95, model.amount_tests - len(mnk_eval), 1e+10)\n",
    "print(f\"Значение квантили распределения равно {quantile}\")\n",
    "if disp / model.variance <= quantile:\n",
    "    print(\"Гипотеза не отвергается\")\n",
    "else:\n",
    "    print(\"Гипотеза отвергается. Модель неадекватна.\")"
   ],
   "metadata": {
    "collapsed": false
   }
  },
  {
   "cell_type": "code",
   "execution_count": 309,
   "outputs": [],
   "source": [],
   "metadata": {
    "collapsed": false
   }
  }
 ],
 "metadata": {
  "kernelspec": {
   "display_name": "Python 3.10.6 ('env': venv)",
   "language": "python",
   "name": "python3"
  },
  "language_info": {
   "codemirror_mode": {
    "name": "ipython",
    "version": 3
   },
   "file_extension": ".py",
   "mimetype": "text/x-python",
   "name": "python",
   "nbconvert_exporter": "python",
   "pygments_lexer": "ipython3",
   "version": "3.10.6"
  },
  "orig_nbformat": 4,
  "vscode": {
   "interpreter": {
    "hash": "8a262d24c1fee1d89d5b4d6551b679089d1f111ec8a5842633e0413383dc65e3"
   }
  }
 },
 "nbformat": 4,
 "nbformat_minor": 2
}

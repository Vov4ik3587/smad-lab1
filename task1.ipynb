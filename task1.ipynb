{
 "cells": [
  {
   "cell_type": "markdown",
   "metadata": {},
   "source": [
    "# Лабораторная работа №1-2 по СМАД\n",
    "\n",
    "## Тема: генерация экспериментальных данных по схеме имитационного моделирования на ЭВМ\n",
    "\n",
    "---\n",
    "\n",
    "## Вариант 2\n",
    "\n",
    "Информация о моделируемом объекте:\n",
    "\n",
    "-   число факторов - 2\n",
    "-   По первому фактору зависимость близка к линейной (возрастающей)\n",
    "-   По второму фактору зависимость близка к параболической\n",
    "-   Максимальное значение отклика приходится на граничные точки точки области действия факторов\n",
    "\n",
    "## Задание:\n",
    "\n",
    "### Часть 1:\n",
    "\n",
    "1. Определить модель, область действия факторов, план эксперимента\n",
    "2. Написать программу по генерации экспериментальных данных\n",
    "3. Построить графики зависимости незашумленного отклика от входных факторов\n",
    "\n",
    "### Часть 2:\n",
    "\n",
    "1. Сформировать программные модули по вычислению МНК-оценок параметров для заданной параметрической модели\n",
    "2. Оценить параметры модели объекта\n",
    "3. Проверить адекватность полученной модели.\n"
   ]
  },
  {
   "cell_type": "markdown",
   "metadata": {},
   "source": [
    "Импортируем нужные библиотеки\n"
   ]
  },
  {
   "cell_type": "code",
   "execution_count": null,
   "metadata": {},
   "outputs": [],
   "source": [
    "import numpy as np\n",
    "from prettytable import PrettyTable\n",
    "import matplotlib.pyplot as plt\n"
   ]
  },
  {
   "cell_type": "markdown",
   "metadata": {},
   "source": [
    "Задаем класс Модель\n",
    "\n",
    "Параметры модели $\\theta$ = [1, 4, 0.001, 4]\n"
   ]
  },
  {
   "cell_type": "code",
   "execution_count": null,
   "metadata": {},
   "outputs": [],
   "source": [
    "class Model:\n",
    "\n",
    "    def __init__(self):\n",
    "        self.amount_tests = 12\n",
    "        self.x_max = 1\n",
    "        self.x_min = -1\n",
    "        self.x1 = []\n",
    "        self.x2 = []\n",
    "        self.signal = []\n",
    "        self.response = []\n",
    "        self.power = 0\n",
    "        self.variance = 0\n",
    "        self.theta = [1, 4, 0.001, 4]\n",
    "        self.func = lambda x1, x2: 1 + 4*x1 + 0.001 * x1 + 4 * x2 ** 2\n"
   ]
  },
  {
   "cell_type": "markdown",
   "metadata": {},
   "source": []
  },
  {
   "cell_type": "code",
   "execution_count": null,
   "metadata": {},
   "outputs": [],
   "source": [
    "class Calculator:\n",
    "\n",
    "    @staticmethod\n",
    "    def compute_signal(model: Model):\n",
    "        signal = [model.func(model.x1[i], model.x2[i])\n",
    "                  for i in range(model.amount_tests)]\n",
    "        return np.array(signal)\n",
    "\n",
    "    @staticmethod\n",
    "    def compute_variance(model) -> float:\n",
    "        return (model.power * 0.1)\n",
    "\n",
    "    @staticmethod\n",
    "    def compute_power(model):\n",
    "        avg_signal = [\n",
    "            np.sum(model.signal) / len(model.signal)\n",
    "            for i in range(len(model.signal))\n",
    "        ]\n",
    "        vec_avg_signal = np.array(avg_signal)\n",
    "        power = np.vdot(model.signal - vec_avg_signal,\n",
    "                        model.signal - vec_avg_signal) / len(model.signal)\n",
    "        return power\n",
    "\n",
    "    @staticmethod\n",
    "    def compute_response(model, error):\n",
    "        return (model.signal + error)\n"
   ]
  },
  {
   "cell_type": "markdown",
   "metadata": {},
   "source": [
    "Создаем модуль генерации случайных значений\n",
    "\n",
    "Первая функция генерирует пару независимых переменных.\n",
    "Вторая функция генерирует величину ошибки с нормальным распределением и нулевым мат. ожиданием\n"
   ]
  },
  {
   "cell_type": "code",
   "execution_count": null,
   "metadata": {},
   "outputs": [],
   "source": [
    "class DataGenerator:\n",
    "\n",
    "    @staticmethod\n",
    "    def generate_couple(x_min, x_max, amount_tests):\n",
    "        x1 = np.random.uniform(x_min, x_max, amount_tests)\n",
    "        x2 = np.random.uniform(x_min, x_max, amount_tests)\n",
    "        return x1, x2\n",
    "\n",
    "    @staticmethod\n",
    "    def generate_error(standart_deviation, number_tests) -> float:\n",
    "        error = np.random.normal(0, standart_deviation, number_tests)\n",
    "        return error\n"
   ]
  },
  {
   "cell_type": "markdown",
   "metadata": {},
   "source": [
    "Заполняем модель данными\n"
   ]
  },
  {
   "cell_type": "code",
   "execution_count": null,
   "metadata": {},
   "outputs": [],
   "source": [
    "model = Model()  # инициализируем модель\n",
    "\n",
    "x1, x2 = DataGenerator.generate_couple(\n",
    "    model.x_min, model.x_max, model.amount_tests)\n",
    "\n",
    "model.x1, model.x2 = x1, x2\n",
    "\n",
    "model.signal = Calculator.compute_signal(model)\n",
    "model.power = Calculator.compute_power(model)\n",
    "model.variance = Calculator.compute_variance(model)\n",
    "\n",
    "error = DataGenerator.generate_error(\n",
    "    model.variance, model.amount_tests)\n",
    "\n",
    "model.response = Calculator.compute_response(model, error)\n"
   ]
  },
  {
   "cell_type": "markdown",
   "metadata": {},
   "source": [
    "Отрисовываем таблицу выборки и параметры модели\n"
   ]
  },
  {
   "cell_type": "code",
   "execution_count": null,
   "metadata": {},
   "outputs": [],
   "source": [
    "table = PrettyTable()\n",
    "table.field_names = [\"Num Test\", \"x1\", \"x2\", \"signal\", \"error\", \"response\"]\n",
    "for i in range(model.amount_tests):\n",
    "    table.add_row([i+1, np.around(model.x1[i], 7),\n",
    "                   np.around(model.x2[i], 7),\n",
    "                   np.around(model.signal[i], 7),\n",
    "                   np.around(error[i], 7),\n",
    "                   np.around(model.response[i], 7)])\n",
    "print(table)\n",
    "print(\"\\n\")\n",
    "print(f\"Параметры модели Θ: {model.theta}\")\n",
    "print(f\"Мощность сигнала: {model.power}\")\n",
    "print(f\"Дисперсия σ: {model.variance}\")\n"
   ]
  },
  {
   "cell_type": "markdown",
   "metadata": {},
   "source": [
    "Построение графиков зависимости незашумленного отклика от входных параметров\n"
   ]
  },
  {
   "cell_type": "code",
   "execution_count": null,
   "metadata": {},
   "outputs": [],
   "source": [
    "fig, axes = plt.subplots(nrows=1, ncols=2)\n",
    "fig.set_figheight(6)\n",
    "fig.set_figwidth(12)\n",
    "ax_x1 = np.linspace(-1, 1, 1000)\n",
    "ax_x2 = ax_x1\n",
    "axes[0].set(title=\"η(x1, 0)\")\n",
    "axes[1].set(title=\"η(x2, 0)\")\n",
    "axes[0].plot(ax_x1, model.func(ax_x1, 0))\n",
    "axes[1].plot(ax_x2, model.func(0, ax_x2))\n",
    "axes[0].grid()\n",
    "axes[1].grid()\n",
    "plt.show()\n"
   ]
  },
  {
   "cell_type": "markdown",
   "metadata": {},
   "source": []
  },
  {
   "cell_type": "code",
   "execution_count": null,
   "metadata": {},
   "outputs": [],
   "source": []
  }
 ],
 "metadata": {
  "kernelspec": {
   "display_name": "Python 3.10.7 ('env': venv)",
   "language": "python",
   "name": "python3"
  },
  "language_info": {
   "codemirror_mode": {
    "name": "ipython",
    "version": 3
   },
   "file_extension": ".py",
   "mimetype": "text/x-python",
   "name": "python",
   "nbconvert_exporter": "python",
   "pygments_lexer": "ipython3",
   "version": "3.10.7"
  },
  "orig_nbformat": 4,
  "vscode": {
   "interpreter": {
    "hash": "8a262d24c1fee1d89d5b4d6551b679089d1f111ec8a5842633e0413383dc65e3"
   }
  }
 },
 "nbformat": 4,
 "nbformat_minor": 2
}
